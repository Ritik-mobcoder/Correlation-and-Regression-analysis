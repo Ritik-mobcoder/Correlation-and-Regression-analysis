{
 "cells": [
  {
   "attachments": {},
   "cell_type": "markdown",
   "id": "0c80d25b-738b-486c-a11b-f362e374e950",
   "metadata": {},
   "source": [
    " # Correlation\n",
    "Correlation quantifies how strong and in which direction the two variables are related. It is being measured using the correlation coefficient which goes to the extent of negative one and positive one.\n",
    "\n",
    "### Pearson Correlation Coefficient\n",
    "It measures a linear dependence between two variables (x and y) is known as a parametric correlation test because it depends on the distribution of the data.\n",
    "\n",
    "### Spearman Correlation Coefficient\n",
    "The Spearman correlation coefficient is a non-parametric measure of correlation that assesses monotonic relationships (relationships that are always increasing or always decreasing but not necessarily linear). It is based on the ranked values of the data rather than their raw values, making it suitable for non-linear relationships and ordinal data.\n"
   ]
  },
  {
   "cell_type": "code",
   "execution_count": 42,
   "id": "cfc3ab9f-08de-4b28-bd31-f0cfae3f5bcf",
   "metadata": {},
   "outputs": [],
   "source": [
    "from scipy.stats import pearsonr, spearmanr\n",
    "import seaborn as sns"
   ]
  },
  {
   "cell_type": "code",
   "execution_count": 41,
   "id": "f6ee78c1-c631-49c0-b1f1-0e8789f3b11b",
   "metadata": {},
   "outputs": [
    {
     "name": "stdout",
     "output_type": "stream",
     "text": [
      "Pearson Correlation: -0.118\n",
      "Spearman Correlation: -0.167\n"
     ]
    }
   ],
   "source": [
    "data = sns.load_dataset(\"iris\")\n",
    "\n",
    "pearson_corr, _ = pearsonr(data[\"sepal_length\"], data[\"sepal_width\"])\n",
    "spearman_corr, _ = spearmanr(data[\"sepal_length\"], data[\"sepal_width\"])\n",
    "\n",
    "print(f\"Pearson Correlation: {pearson_corr:.3f}\")\n",
    "print(f\"Spearman Correlation: {spearman_corr:.3f}\")"
   ]
  },
  {
   "cell_type": "markdown",
   "id": "9aa526c4-19b2-4968-827c-921ab21b30df",
   "metadata": {},
   "source": [
    "#  Interpreting Correlation \n",
    "### Strength\n",
    "The absolute value of the coefficient indicates the strength of the relationship: \n",
    " \n",
    "Strong:A correlation coefficient close to ±1 indicates a strong relationship. For example, a correlation of 0.9 indicates a very strong positive correlation. \n",
    " \n",
    "Weak:A correlation coefficient closer to 0 indicates a weak relationship. For example, a correlation of -0.1 indicates a weak negative correlation.\n",
    "\n",
    "## Direction\n",
    "The sign of the coefficient indicates the direction of the relationship: \n",
    "\n",
    "Positive: A positive coefficient means that the variables change in the same direction. For example, height and shoe size have a positive correlation. \n",
    " \n",
    "Negative: A negative coefficient means that the variables change in opposite directions. For example, product price and sales quantity have a negative correlation. \n",
    " "
   ]
  },
  {
   "cell_type": "markdown",
   "id": "39bd4890-8192-48cf-9a4e-533e70860281",
   "metadata": {},
   "source": [
    "# Correlation\n",
    "Correlation refers to a statistical association between two variables. When two variables are correlated, changes in one variable are associated with changes in the other, but this association does not imply that one variable influences or causes the other to change. Correlation only describes the strength and direction of a relationship:\n",
    "\n",
    "Positive Correlation: As one variable increases, the other also tends to increase.\n",
    "Negative Correlation: As one variable increases, the other tends to decrease.\n",
    "No Correlation: No consistent relationship is observed between the two variables.\n",
    "\n",
    "\n",
    "# Causation\n",
    "Causation, on the other hand, implies a cause-and-effect relationship. If one variable is causing changes in another, then manipulating the first variable would lead to predictable changes in the second. Establishing causation is much harder than establishing correlation and often requires controlled experiments or longitudinal studies to rule out confounding factors.\n",
    "\n"
   ]
  },
  {
   "cell_type": "code",
   "execution_count": null,
   "id": "9e73d72b-71a6-4ca2-ab23-e02c01ba238b",
   "metadata": {},
   "outputs": [],
   "source": []
  }
 ],
 "metadata": {
  "kernelspec": {
   "display_name": "Python 3 (ipykernel)",
   "language": "python",
   "name": "python3"
  },
  "language_info": {
   "codemirror_mode": {
    "name": "ipython",
    "version": 3
   },
   "file_extension": ".py",
   "mimetype": "text/x-python",
   "name": "python",
   "nbconvert_exporter": "python",
   "pygments_lexer": "ipython3",
   "version": "3.11.10"
  }
 },
 "nbformat": 4,
 "nbformat_minor": 5
}
